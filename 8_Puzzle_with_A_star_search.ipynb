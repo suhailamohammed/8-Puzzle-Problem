{
  "nbformat": 4,
  "nbformat_minor": 0,
  "metadata": {
    "colab": {
      "provenance": [],
      "include_colab_link": true
    },
    "kernelspec": {
      "name": "python3",
      "display_name": "Python 3"
    },
    "language_info": {
      "name": "python"
    }
  },
  "cells": [
    {
      "cell_type": "markdown",
      "metadata": {
        "id": "view-in-github",
        "colab_type": "text"
      },
      "source": [
        "<a href=\"https://colab.research.google.com/github/suhailamohammed/8-Puzzle-Problem/blob/main/8_Puzzle_with_A_star_search.ipynb\" target=\"_parent\"><img src=\"https://colab.research.google.com/assets/colab-badge.svg\" alt=\"Open In Colab\"/></a>"
      ]
    },
    {
      "cell_type": "markdown",
      "source": [
        "**1910496**\n",
        "\n",
        "**Suhaila**"
      ],
      "metadata": {
        "id": "64vEvC3ZW2kt"
      }
    },
    {
      "cell_type": "code",
      "source": [
        "import numpy as np\n",
        "from collections import deque"
      ],
      "metadata": {
        "id": "MusVmrzoPGGR"
      },
      "execution_count": 5,
      "outputs": []
    },
    {
      "cell_type": "code",
      "source": [
        "def goalMatch(mat):\n",
        "  for i in range(n):\n",
        "    for j in range(n):\n",
        "      if (mat[i][j] != final[i][j]):\n",
        "        return False\n",
        "        \n",
        "  return True  \n"
      ],
      "metadata": {
        "id": "dfLFcfCT2DxR"
      },
      "execution_count": 6,
      "outputs": []
    },
    {
      "cell_type": "code",
      "source": [
        "def findCoordinates(mat):\n",
        "  for i in range(n):\n",
        "    for j in range(n):\n",
        "      if (mat[i][j] == -1):\n",
        "        #print(i,j)\n",
        "        return i,j\n",
        "  \n",
        "    "
      ],
      "metadata": {
        "id": "cwfuQuRky0M9"
      },
      "execution_count": 7,
      "outputs": []
    },
    {
      "cell_type": "code",
      "source": [
        "def generateChildren(mat,final,x,y):\n",
        "  mydict = {}\n",
        "  \n",
        "  #for left shift\n",
        "  if y != 0:\n",
        "    c = mat.copy()\n",
        "    temp = c[x][y]\n",
        "    c[x][y] = c[x][y-1]\n",
        "    c[x][y-1] = temp\n",
        "    \n",
        "    h = heuristicCalc(c,final)\n",
        "    mydict[h,'left'] = c\n",
        "    \n",
        "  \n",
        "  #for right shift\n",
        "  if y != n-1 :\n",
        "    c1 = mat.copy()\n",
        "    temp = c1[x][y]\n",
        "    c1[x][y] = c1[x][y+1]\n",
        "    c1[x][y+1] = temp\n",
        "    h = heuristicCalc(c1,final)\n",
        "    mydict[h,'right'] = c1\n",
        "    \n",
        "\n",
        "  #for top shift\n",
        "  if x != 0:\n",
        "    c1 = mat.copy()\n",
        "    temp = c1[x][y]\n",
        "    c1[x][y] = c1[x-1][y]\n",
        "    c1[x-1][y] = temp\n",
        "    h = heuristicCalc(c1,final)\n",
        "    mydict[h,'Up'] = c1\n",
        "    \n",
        "\n",
        "  #for bottom shift\n",
        "  if x != n-1:\n",
        "    c1 = mat.copy()\n",
        "    temp = c1[x][y]\n",
        "    c1[x][y] = c1[x+1][y]\n",
        "    c1[x+1][y] = temp\n",
        "    h = heuristicCalc(c1,final)\n",
        "    mydict[h,'down'] = c1\n",
        "\n",
        " \n",
        "  return mydict\n"
      ],
      "metadata": {
        "id": "ofovIqOa0hmy"
      },
      "execution_count": 8,
      "outputs": []
    },
    {
      "cell_type": "code",
      "source": [
        "def DFBB(mat, x,y,final,cost,bound):\n",
        "  \n",
        "  children = {}\n",
        "\n",
        "  children = generateChildren(mat,final,x,y)\n",
        "\n",
        "\n",
        "  h_least = (float('inf'),'')\n",
        "\n",
        "  #Finds the state with the least cost\n",
        "  for key in children:\n",
        "\n",
        "    if key[0] < h_least[0]:\n",
        "      h_least = key\n",
        "  \n",
        "  path.append(h_least[1])\n",
        "  \n",
        "  if cost + h_least[0]  < bound:\n",
        "    stack.append(children[h_least])\n",
        "    if goalMatch(children[h_least]):\n",
        "      bound = cost\n",
        "    else:\n",
        "      cost = cost + 1\n",
        "      x1,y1 = findCoordinates(children[h_least])\n",
        "      DFBB(children[h_least],x1,y1,final,cost,bound)\n",
        "  \n",
        "  return path,stack\n"
      ],
      "metadata": {
        "id": "IKkeuxqBs474"
      },
      "execution_count": 9,
      "outputs": []
    },
    {
      "cell_type": "code",
      "source": [
        "# Function to calculate the number of\n",
        "# misplaced tiles ie. number of non-blank\n",
        "# tiles not in their goal position\n",
        "def heuristicCalc(mat, final) -> int:\n",
        "\t\n",
        "\tcount = 0\n",
        "\tfor i in range(n):\n",
        "\t\tfor j in range(n):\n",
        "\t\t\tif (mat[i][j] != final[i][j]):\n",
        "\t\t\t\tcount += 1\n",
        "\t\t\t\t\n",
        "\treturn count"
      ],
      "metadata": {
        "id": "12OvdRoIuakc"
      },
      "execution_count": 10,
      "outputs": []
    },
    {
      "cell_type": "code",
      "source": [
        "# Driver Code\n",
        "#Test1\n",
        "initial = np.array([ [ 1, 4, 2 ],\n",
        "\t\t\t[ -1, 5, 3],\n",
        "\t\t\t[ 6, 7, 8 ] ])\n",
        "\n",
        "\n",
        "final = np.array([ [ 1, 2, -1 ],\n",
        "\t\t\t[ 5, 4, 3],\n",
        "\t\t\t[ 6, 7, 8 ] ])\n",
        "\n",
        "\n",
        "# Position of the blank tile \n",
        "x = 1 \n",
        "y = 0\n",
        "\n",
        "\n",
        "bound = np.inf\n",
        "\n",
        "#size of the puzzle\n",
        "n = 3\n",
        "stack = deque()\n",
        "\n",
        "path = ['start']\n",
        "\n",
        "\n",
        "# Function call to solve the puzzle\n",
        "moves,solution= DFBB(initial, x,y, final,0,bound)\n",
        "\n",
        "#Print the actions\n",
        "print(\"moves=\",moves)\n",
        "\n",
        "#Print the movement of the tile\n",
        "for i in range(len(solution)-1):\n",
        "\tprint(solution[i])\n",
        "\tprint('-->')\n",
        "print(solution[i+1])\n"
      ],
      "metadata": {
        "colab": {
          "base_uri": "https://localhost:8080/"
        },
        "id": "CRd6xg2JTcbL",
        "outputId": "b9ad8658-4bad-422f-f3c5-002d49b03115"
      },
      "execution_count": 11,
      "outputs": [
        {
          "output_type": "stream",
          "name": "stdout",
          "text": [
            "moves= ['start', 'right', 'Up', 'right']\n",
            "[[ 1  4  2]\n",
            " [ 5 -1  3]\n",
            " [ 6  7  8]]\n",
            "-->\n",
            "[[ 1 -1  2]\n",
            " [ 5  4  3]\n",
            " [ 6  7  8]]\n",
            "-->\n",
            "[[ 1  2 -1]\n",
            " [ 5  4  3]\n",
            " [ 6  7  8]]\n"
          ]
        }
      ]
    },
    {
      "cell_type": "code",
      "execution_count": 12,
      "metadata": {
        "colab": {
          "base_uri": "https://localhost:8080/"
        },
        "id": "UOSiho8qs02D",
        "outputId": "ef7ba767-a5a8-44d7-f9d0-cd889ee4b737"
      },
      "outputs": [
        {
          "output_type": "stream",
          "name": "stdout",
          "text": [
            "moves= ['start', 'right', 'Up', 'right', 'down', 'down']\n",
            "[[ 1  4  2]\n",
            " [ 5 -1  3]\n",
            " [ 6  7  8]]\n",
            "-->\n",
            "[[ 1 -1  2]\n",
            " [ 5  4  3]\n",
            " [ 6  7  8]]\n",
            "-->\n",
            "[[ 1  2 -1]\n",
            " [ 5  4  3]\n",
            " [ 6  7  8]]\n",
            "-->\n",
            "[[ 1  2  3]\n",
            " [ 5  4 -1]\n",
            " [ 6  7  8]]\n",
            "-->\n",
            "[[ 1  2  3]\n",
            " [ 5  4  8]\n",
            " [ 6  7 -1]]\n"
          ]
        }
      ],
      "source": [
        "#Test2\n",
        "\n",
        "initial = np.array([ [ 1, 4, 2 ],\n",
        "\t\t\t[ -1, 5, 3],\n",
        "\t\t\t[ 6, 7, 8 ] ])\n",
        "\n",
        "\n",
        "\n",
        "final = np.array([ [ 1, 2, 3 ],\n",
        "\t\t\t[ 5, 4, 8],\n",
        "\t\t\t[ 6, 7, -1 ] ])\n",
        "\n",
        "# Position of the blank tile \n",
        "x = 1 \n",
        "y = 0\n",
        "\n",
        "\n",
        "bound = np.inf\n",
        "\n",
        "#size of the puzzle\n",
        "n = 3\n",
        "stack = deque()\n",
        "\n",
        "path = ['start']\n",
        "\n",
        "\n",
        "\n",
        "# Function call to solve the puzzle\n",
        "moves,solution= DFBB(initial, x,y, final,0,bound)\n",
        "\n",
        "#Print the actions\n",
        "print(\"moves=\",moves)\n",
        "\n",
        "#Print the movement of the tile\n",
        "for i in range(len(solution)-1):\n",
        "\tprint(solution[i])\n",
        "\tprint('-->')\n",
        "print(solution[i+1])\n",
        "\n"
      ]
    },
    {
      "cell_type": "code",
      "source": [
        "#Test3\n",
        "\n",
        "initial = np.array([ [ 1, 2, 3 ],\n",
        "\t\t\t[ -1, 5, 4],\n",
        "\t\t\t[ 6, 7, 8 ] ])\n",
        "\n",
        "\n",
        "final = np.array([ [ 1, 2, 3 ],\n",
        "\t\t\t[ 5, 4, 8],\n",
        "\t\t\t[ 6, 7, -1 ] ])\n",
        "\n",
        "# Position of the blank tile \n",
        "x = 1 \n",
        "y = 0\n",
        "\n",
        "\n",
        "bound = np.inf\n",
        "\n",
        "#size of the puzzle\n",
        "n = 3\n",
        "stack = deque()\n",
        "\n",
        "path = ['start']\n",
        "\n",
        "# Function call to solve the puzzle\n",
        "moves,solution= DFBB(initial, x,y, final,0,bound)\n",
        "\n",
        "#Print the actions\n",
        "print(\"moves=\",moves)\n",
        "\n",
        "#Print the movement of the tile\n",
        "for i in range(len(solution)-1):\n",
        "\tprint(solution[i])\n",
        "\tprint('-->')\n",
        "print(solution[i+1])\n",
        "\n"
      ],
      "metadata": {
        "colab": {
          "base_uri": "https://localhost:8080/"
        },
        "id": "HD1EG-yDTslH",
        "outputId": "e0e7dc3b-f9d4-4477-bfe8-0bd5673a55ef"
      },
      "execution_count": 13,
      "outputs": [
        {
          "output_type": "stream",
          "name": "stdout",
          "text": [
            "moves= ['start', 'right', 'right', 'down']\n",
            "[[ 1  2  3]\n",
            " [ 5 -1  4]\n",
            " [ 6  7  8]]\n",
            "-->\n",
            "[[ 1  2  3]\n",
            " [ 5  4 -1]\n",
            " [ 6  7  8]]\n",
            "-->\n",
            "[[ 1  2  3]\n",
            " [ 5  4  8]\n",
            " [ 6  7 -1]]\n"
          ]
        }
      ]
    }
  ]
}