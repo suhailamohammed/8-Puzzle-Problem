{
  "nbformat": 4,
  "nbformat_minor": 0,
  "metadata": {
    "colab": {
      "name": "AI_Assignment3",
      "provenance": [],
      "collapsed_sections": [],
      "authorship_tag": "ABX9TyMq3kGOTEYH5FDQl26+e6Rg",
      "include_colab_link": true
    },
    "kernelspec": {
      "name": "python3",
      "display_name": "Python 3"
    },
    "language_info": {
      "name": "python"
    }
  },
  "cells": [
    {
      "cell_type": "markdown",
      "metadata": {
        "id": "view-in-github",
        "colab_type": "text"
      },
      "source": [
        "<a href=\"https://colab.research.google.com/github/suhailamohammed/8-Puzzle-Problem/blob/main/AI_Assignment3.ipynb\" target=\"_parent\"><img src=\"https://colab.research.google.com/assets/colab-badge.svg\" alt=\"Open In Colab\"/></a>"
      ]
    },
    {
      "cell_type": "code",
      "source": [
        "import numpy as np"
      ],
      "metadata": {
        "id": "MusVmrzoPGGR"
      },
      "execution_count": null,
      "outputs": []
    },
    {
      "cell_type": "code",
      "source": [
        "def goalMatch(mat):\n",
        "  for i in range(n):\n",
        "    for j in range(n):\n",
        "      if (mat[i][j] != final[i][j]):\n",
        "        return False\n",
        "        \n",
        "  return True  \n"
      ],
      "metadata": {
        "id": "dfLFcfCT2DxR"
      },
      "execution_count": null,
      "outputs": []
    },
    {
      "cell_type": "code",
      "source": [
        "def findCoordinates(mat):\n",
        "  l = list()\n",
        "  for i in range(n):\n",
        "    for j in range(n):\n",
        "      if (mat[i][j] == 0):\n",
        "        #print(i,j)\n",
        "        return i,j\n",
        "  \n",
        "    "
      ],
      "metadata": {
        "id": "cwfuQuRky0M9"
      },
      "execution_count": null,
      "outputs": []
    },
    {
      "cell_type": "code",
      "source": [
        "def store(visit):\n",
        "  visitList.append(visit)"
      ],
      "metadata": {
        "id": "aaLaLBX1_OsW"
      },
      "execution_count": null,
      "outputs": []
    },
    {
      "cell_type": "code",
      "source": [
        "def checkvisit(mat):\n",
        "  \n",
        "  for ele in visitList:\n",
        "    count = 0\n",
        "    for i in range(n):\n",
        "      for j in range(n):\n",
        "        if(ele[i][j] == mat[i][j]):\n",
        "            count = count + 1\n",
        "    if count == 9:\n",
        "      return True  \n",
        "  return False"
      ],
      "metadata": {
        "id": "yv_sg3QGG77V"
      },
      "execution_count": null,
      "outputs": []
    },
    {
      "cell_type": "code",
      "source": [
        "def deleteVisited(mat, key):\n",
        "  del mat[key]\n",
        "  return mat"
      ],
      "metadata": {
        "id": "DfO4ABkRYTcr"
      },
      "execution_count": null,
      "outputs": []
    },
    {
      "cell_type": "code",
      "source": [
        "def DFBB(mat, x,y,final,cost):\n",
        "  \n",
        "  childs = {}\n",
        "  bound = float('inf')\n",
        "  print('Selected matrix=' , mat)\n",
        "\n",
        "  childs = generateChildren(mat,final,x,y)\n",
        "\n",
        "  '''\n",
        "  for key in childs:\n",
        "    if checkvisit(childs[key]):\n",
        "      childs = deleteVisited(childs, key)\n",
        "   \n",
        "'''\n",
        "\n",
        "  print(\"-------------------All options------------------------\")\n",
        "  print( childs)\n",
        "  print('----------------------END-----------------------------')\n",
        "  \n",
        "  help = (float('inf'),'')\n",
        "\n",
        "  for key in childs:\n",
        "\n",
        "    if key[0] < help[0]:\n",
        "      help = key\n",
        "\n",
        "  path.append(help[1])\n",
        "  \n",
        "  if cost + help[0]  < bound:\n",
        "    if goalMatch(childs[help]):\n",
        "      bound = cost\n",
        "    else:\n",
        "      cost = cost + 1\n",
        "      x1,y1 = findCoordinates(childs[help])\n",
        "      store(childs[help])\n",
        "      print(x1,y1)\n",
        "      DFBB(childs[help],x1,y1,final,cost)\n",
        "  \n",
        "  return path\n"
      ],
      "metadata": {
        "id": "IKkeuxqBs474"
      },
      "execution_count": null,
      "outputs": []
    },
    {
      "cell_type": "code",
      "source": [
        "'''\n",
        "def printmatrix(mat):\n",
        "  for i in range(n):\n",
        "\t  for j in range(n):\n",
        "\t\t  print(\"%d \" % (mat[i][j]), end = \" \")\n",
        "\t\t\t\n",
        "\t  print()\n",
        "'''"
      ],
      "metadata": {
        "id": "DQdmGdeBt-cs",
        "colab": {
          "base_uri": "https://localhost:8080/",
          "height": 35
        },
        "outputId": "52f44890-83ca-470b-b116-e774ddb5e2e5"
      },
      "execution_count": null,
      "outputs": [
        {
          "output_type": "execute_result",
          "data": {
            "text/plain": [
              "'\\ndef printmatrix(mat):\\n  for i in range(n):\\n\\t  for j in range(n):\\n\\t\\t  print(\"%d \" % (mat[i][j]), end = \" \")\\n\\t\\t\\t\\n\\t  print()\\n'"
            ],
            "application/vnd.google.colaboratory.intrinsic+json": {
              "type": "string"
            }
          },
          "metadata": {},
          "execution_count": 125
        }
      ]
    },
    {
      "cell_type": "code",
      "source": [
        "# Function to calculate the number of\n",
        "# misplaced tiles ie. number of non-blank\n",
        "# tiles not in their goal position\n",
        "def heuristicCalc(mat, final) -> int:\n",
        "\t\n",
        "\tcount = 0\n",
        "\tfor i in range(n):\n",
        "\t\tfor j in range(n):\n",
        "\t\t\tif (mat[i][j] != final[i][j]):\n",
        "\t\t\t\tcount += 1\n",
        "\t\t\t\t\n",
        "\treturn count"
      ],
      "metadata": {
        "id": "12OvdRoIuakc"
      },
      "execution_count": null,
      "outputs": []
    },
    {
      "cell_type": "code",
      "source": [
        "def generateChildren(mat,final,x,y):\n",
        "  mydict = {}\n",
        "  \n",
        "  #for left shift\n",
        "  if y != 0:\n",
        "    c = mat.copy()\n",
        "    temp = c[x][y]\n",
        "    c[x][y] = c[x][y-1]\n",
        "    c[x][y-1] = temp\n",
        "    \n",
        "    h = heuristicCalc(c,final)\n",
        "    mydict[h,'left'] = c\n",
        "    \n",
        "  \n",
        "  #for right shift\n",
        "  if y != n-1 :\n",
        "    c1 = mat.copy()\n",
        "    temp = c1[x][y]\n",
        "    c1[x][y] = c1[x][y+1]\n",
        "    c1[x][y+1] = temp\n",
        "    h = heuristicCalc(c1,final)\n",
        "    mydict[h,'right'] = c1\n",
        "    \n",
        "\n",
        "  #for top shift\n",
        "  if x != 0:\n",
        "    c1 = mat.copy()\n",
        "    temp = c1[x][y]\n",
        "    c1[x][y] = c1[x-1][y]\n",
        "    c1[x-1][y] = temp\n",
        "    h = heuristicCalc(c1,final)\n",
        "    mydict[h,'Up'] = c1\n",
        "    \n",
        "\n",
        "  #for bottom shift\n",
        "  if x != n-1:\n",
        "    c1 = mat.copy()\n",
        "    temp = c1[x][y]\n",
        "    c1[x][y] = c1[x+1][y]\n",
        "    c1[x+1][y] = temp\n",
        "    h = heuristicCalc(c1,final)\n",
        "    mydict[h,'down'] = c1\n",
        "\n",
        " \n",
        "  return mydict\n"
      ],
      "metadata": {
        "id": "ofovIqOa0hmy"
      },
      "execution_count": null,
      "outputs": []
    },
    {
      "cell_type": "code",
      "source": [
        "def getInvCount(arr):\n",
        "    inv_count = 0\n",
        "    empty_value = -1\n",
        "    for i in range(0, 9):\n",
        "        for j in range(i + 1, 9):\n",
        "            if arr[j] != empty_value and arr[i] != empty_value and arr[i] > arr[j]:\n",
        "                inv_count += 1\n",
        "    return inv_count\n",
        " \n",
        "     \n",
        "# This function returns true\n",
        "# if given 8 puzzle is solvable.\n",
        "def isSolvable(puzzle) :\n",
        " \n",
        "    # Count inversions in given 8 puzzle\n",
        "    inv_count = getInvCount([j for sub in puzzle for j in sub])\n",
        " \n",
        "    # return true if inversion count is even.\n",
        "    return (inv_count % 2 == 0)\n",
        "\n"
      ],
      "metadata": {
        "id": "u8Pyrb_yRmug"
      },
      "execution_count": null,
      "outputs": []
    },
    {
      "cell_type": "code",
      "execution_count": null,
      "metadata": {
        "colab": {
          "base_uri": "https://localhost:8080/"
        },
        "id": "UOSiho8qs02D",
        "outputId": "bca21432-6706-4ac7-d3ea-d17ad3134022"
      },
      "outputs": [
        {
          "output_type": "stream",
          "name": "stdout",
          "text": [
            "Solvable\n",
            "Selected matrix= [[1 4 2]\n",
            " [0 5 3]\n",
            " [6 7 8]]\n",
            "-------------------All options------------------------\n",
            "{(3, 'right'): array([[1, 4, 2],\n",
            "       [5, 0, 3],\n",
            "       [6, 7, 8]]), (5, 'Up'): array([[0, 4, 2],\n",
            "       [1, 5, 3],\n",
            "       [6, 7, 8]]), (5, 'down'): array([[1, 4, 2],\n",
            "       [6, 5, 3],\n",
            "       [0, 7, 8]])}\n",
            "----------------------END-----------------------------\n",
            "1 1\n",
            "Selected matrix= [[1 4 2]\n",
            " [5 0 3]\n",
            " [6 7 8]]\n",
            "-------------------All options------------------------\n",
            "{(4, 'left'): array([[1, 4, 2],\n",
            "       [0, 5, 3],\n",
            "       [6, 7, 8]]), (4, 'right'): array([[1, 4, 2],\n",
            "       [5, 3, 0],\n",
            "       [6, 7, 8]]), (2, 'Up'): array([[1, 0, 2],\n",
            "       [5, 4, 3],\n",
            "       [6, 7, 8]]), (4, 'down'): array([[1, 4, 2],\n",
            "       [5, 7, 3],\n",
            "       [6, 0, 8]])}\n",
            "----------------------END-----------------------------\n",
            "0 1\n",
            "Selected matrix= [[1 0 2]\n",
            " [5 4 3]\n",
            " [6 7 8]]\n",
            "-------------------All options------------------------\n",
            "{(3, 'left'): array([[0, 1, 2],\n",
            "       [5, 4, 3],\n",
            "       [6, 7, 8]]), (0, 'right'): array([[1, 2, 0],\n",
            "       [5, 4, 3],\n",
            "       [6, 7, 8]]), (3, 'down'): array([[1, 4, 2],\n",
            "       [5, 0, 3],\n",
            "       [6, 7, 8]])}\n",
            "----------------------END-----------------------------\n",
            "['start', 'right', 'Up', 'right']\n"
          ]
        }
      ],
      "source": [
        "# Driver Code\n",
        "\n",
        "# Initial configuration\n",
        "# Value 0 is used for empty space\n",
        "initial = np.array([ [ 1, 4, 2 ],\n",
        "\t\t\t[ 0, 5, 3],\n",
        "\t\t\t[ 6, 7, 8 ] ])\n",
        "\n",
        "# Solvable Final configuration\n",
        "# Value 0 is used for empty space\n",
        "final = np.array([ [ 1, 2, 0 ],\n",
        "\t\t\t[ 5, 4, 3],\n",
        "\t\t\t[ 6, 7, 8 ] ])\n",
        "\n",
        "# Blank tile coordinates in\n",
        "# initial configuration\n",
        "x = 1 \n",
        "y = 0\n",
        "\n",
        "n = 3\n",
        "path = ['start']\n",
        "visitList = list()\n",
        "if(isSolvable(initial)):\n",
        "\tprint(\"Solvable\")\n",
        "\t#generateChildren(initial,final,x,y)\n",
        "\t# Function call to solve the puzzle\n",
        "\tprint(DFBB(initial, x,y, final,0))\n",
        " \n",
        "else:\n",
        "  print(\"Not Solvable\")\n",
        "\n",
        "\n",
        "\n",
        "#printmatrix(initial)\n"
      ]
    }
  ]
}